{
 "cells": [
  {
   "cell_type": "code",
   "execution_count": 1,
   "metadata": {},
   "outputs": [
    {
     "name": "stdout",
     "output_type": "stream",
     "text": [
      "Last iteration:  132\n"
     ]
    },
    {
     "name": "stderr",
     "output_type": "stream",
     "text": [
      "terminate called after throwing an instance of 'std::runtime_error'\n",
      "  what():  [shape] Indexing size and output size of the Parametrization do not match! 5266 vs 5272\n",
      "Aborted (core dumped)\n"
     ]
    },
    {
     "name": "stdout",
     "output_type": "stream",
     "text": [
      "Wrong number of variables!\n",
      "Last iteration:  1\n"
     ]
    },
    {
     "name": "stderr",
     "output_type": "stream",
     "text": [
      "terminate called after throwing an instance of 'std::runtime_error'\n",
      "  what():  [shape] Indexing size and output size of the Parametrization do not match! 5266 vs 5272\n",
      "Aborted (core dumped)\n"
     ]
    },
    {
     "name": "stdout",
     "output_type": "stream",
     "text": [
      "Wrong number of variables!\n",
      "Last iteration:  1\n"
     ]
    },
    {
     "name": "stderr",
     "output_type": "stream",
     "text": [
      "terminate called after throwing an instance of 'std::runtime_error'\n",
      "  what():  [shape] Indexing size and output size of the Parametrization do not match! 5266 vs 5272\n",
      "Aborted (core dumped)\n"
     ]
    },
    {
     "name": "stdout",
     "output_type": "stream",
     "text": [
      "Wrong number of variables!\n",
      "Last iteration:  1\n"
     ]
    },
    {
     "name": "stderr",
     "output_type": "stream",
     "text": [
      "terminate called after throwing an instance of 'std::runtime_error'\n",
      "  what():  [shape] Indexing size and output size of the Parametrization do not match! 5266 vs 5272\n",
      "Aborted (core dumped)\n"
     ]
    },
    {
     "name": "stdout",
     "output_type": "stream",
     "text": [
      "Wrong number of variables!\n",
      "Last iteration:  1\n"
     ]
    },
    {
     "name": "stderr",
     "output_type": "stream",
     "text": [
      "terminate called after throwing an instance of 'std::runtime_error'\n",
      "  what():  [shape] Indexing size and output size of the Parametrization do not match! 5266 vs 5272\n",
      "Aborted (core dumped)\n"
     ]
    },
    {
     "name": "stdout",
     "output_type": "stream",
     "text": [
      "Wrong number of variables!\n",
      "Last iteration:  1\n"
     ]
    },
    {
     "name": "stderr",
     "output_type": "stream",
     "text": [
      "terminate called after throwing an instance of 'std::runtime_error'\n",
      "  what():  [shape] Indexing size and output size of the Parametrization do not match! 5266 vs 5272\n",
      "Aborted (core dumped)\n"
     ]
    },
    {
     "name": "stdout",
     "output_type": "stream",
     "text": [
      "Wrong number of variables!\n",
      "Last iteration:  1\n"
     ]
    },
    {
     "name": "stderr",
     "output_type": "stream",
     "text": [
      "terminate called after throwing an instance of 'std::runtime_error'\n",
      "  what():  [shape] Indexing size and output size of the Parametrization do not match! 5266 vs 5272\n",
      "Aborted (core dumped)\n"
     ]
    },
    {
     "name": "stdout",
     "output_type": "stream",
     "text": [
      "Wrong number of variables!\n"
     ]
    }
   ],
   "source": [
    "import numpy as np\n",
    "import os, json\n",
    "import re\n",
    "\n",
    "def extract_floats(text: str):\n",
    "    return list(map(float, re.findall(r'[-+]?\\ *[0-9]+\\.?[0-9]*(?:[Ee]\\ *[-+]?\\ *[0-9]+)?', text)))\n",
    "\n",
    "def find_end(str, keyword):\n",
    "    return str.find(keyword) + len(keyword)\n",
    "\n",
    "polyfem_bin = \"/home/zizhou/adjoint/build/release/PolyFEM_bin\"\n",
    "\n",
    "mesh_path = \"hook2.msh\"\n",
    "for iter in range(20):\n",
    "\n",
    "    # optimization configuration\n",
    "    out_dir = \"./opt_\" + str(iter)\n",
    "    if os.path.exists(out_dir):\n",
    "        os.system(\"rm -r \" + out_dir)\n",
    "    os.mkdir(out_dir)\n",
    "    log_path = os.path.join(out_dir, \"log\")\n",
    "    with open(\"opt.json\", 'r') as f:\n",
    "        opt_args = json.load(f)\n",
    "        opt_args[\"output\"][\"directory\"] = out_dir\n",
    "    \n",
    "    json_path = \"opt-\" + str(iter) + \".json\"\n",
    "    with open(json_path, 'w') as f:\n",
    "        json.dump(opt_args, f, indent=4)\n",
    "\n",
    "    # simulation configuration\n",
    "    with open(\"run.json\", 'r') as f:\n",
    "        state_args = json.load(f)\n",
    "        state_args[\"output\"][\"directory\"] = \"./opt_\" + str(iter)\n",
    "        state_args[\"geometry\"][1][\"mesh\"] = mesh_path\n",
    "    \n",
    "    with open(\"run.json\", 'w') as f:\n",
    "        json.dump(state_args, f, indent=4)\n",
    "    \n",
    "    # run shape optimization\n",
    "    # if iter > 0:\n",
    "    if os.system(polyfem_bin + \" -j \" + json_path + \" --ns > \" + log_path) != 0:\n",
    "        with open(log_path, 'r') as f:\n",
    "            lines = f.readlines()\n",
    "            for line in lines:\n",
    "                # adjust the number of variables in shape optimization due to remesh\n",
    "                if 'Indexing size and output size of the Parametrization do not match!' in line:\n",
    "                    print(\"Wrong number of variables!\")\n",
    "                    ndofs = int(extract_floats(line[find_end(line, 'Indexing size and output size of the Parametrization do not match!'):])[0])\n",
    "                    opt_args[\"parameters\"][0][\"number\"] = ndofs\n",
    "                    with open(json_path, 'w') as g:\n",
    "                        json.dump(opt_args, g, indent=4)\n",
    "                    os.system(polyfem_bin + \" -j \" + json_path + \" --ns > \" + log_path)\n",
    "                    break\n",
    "\n",
    "    # find last iteration\n",
    "    with open(log_path, 'r') as f:\n",
    "        lines = f.readlines()\n",
    "        last_iter = -1\n",
    "        need_remesh = False\n",
    "        for line in lines:\n",
    "            if \"Saving iteration\" in line:\n",
    "                last_iter = int(line[find_end(line, \"Saving iteration\"):-1])\n",
    "            if \"Save rest mesh to file\" in line:\n",
    "                opt_mesh_path = line[find_end(line, \"Save rest mesh to file\"):line.find(\"...\")]\n",
    "            if \"Objective function specified to stop\" in line:\n",
    "                need_remesh = True\n",
    "        print(\"Last iteration: \", last_iter)\n",
    "        if last_iter <= 1:\n",
    "            raise Exception(\"Failed to take a step in last round of optimization!\")\n",
    "    \n",
    "    if not need_remesh:\n",
    "        print(\"Shape optimization finished!\")\n",
    "        break\n",
    "\n",
    "    # if quality is bad, remesh\n",
    "    mesh_path = os.path.join(out_dir, \"optimized_remesh.msh\")\n",
    "    os.system(\"python remesh.py \" + opt_mesh_path + \" \" + mesh_path + \" > \" + os.path.join(out_dir, \"remesh.log\"))\n"
   ]
  },
  {
   "cell_type": "code",
   "execution_count": null,
   "metadata": {},
   "outputs": [],
   "source": []
  }
 ],
 "metadata": {
  "kernelspec": {
   "display_name": "base",
   "language": "python",
   "name": "python3"
  },
  "language_info": {
   "codemirror_mode": {
    "name": "ipython",
    "version": 3
   },
   "file_extension": ".py",
   "mimetype": "text/x-python",
   "name": "python",
   "nbconvert_exporter": "python",
   "pygments_lexer": "ipython3",
   "version": "3.9.18"
  }
 },
 "nbformat": 4,
 "nbformat_minor": 2
}
